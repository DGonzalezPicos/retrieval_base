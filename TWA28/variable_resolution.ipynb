{
 "cells": [
  {
   "cell_type": "code",
   "execution_count": 15,
   "metadata": {},
   "outputs": [],
   "source": [
    "import pathlib\n",
    "\n",
    "from retrieval_base.retrieval import pre_processing, prior_check, Retrieval\n",
    "from retrieval_base.spectrum_jwst import SpectrumJWST\n",
    "from retrieval_base.pRT_model import pRT_model\n",
    "import retrieval_base.auxiliary_functions as aux\n",
    "import config_jwst as conf\n",
    "\n",
    "%load_ext autoreload\n",
    "%autoreload 2\n",
    "\n",
    "path = pathlib.Path('/home/dario/phd/retrieval_base/TWA28/retrieval_outputs/')\n",
    "run = 'jwst_KLM_N10'\n",
    "\n"
   ]
  },
  {
   "cell_type": "code",
   "execution_count": null,
   "metadata": {},
   "outputs": [],
   "source": [
    "ret = Retrieval(\n",
    "        conf=conf, \n",
    "        evaluation=False,\n",
    "        )\n",
    "bestfit_params, posterior = ret.PMN_analyze()\n",
    "ret.evaluate_model()\n"
   ]
  },
  {
   "cell_type": "code",
   "execution_count": 14,
   "metadata": {},
   "outputs": [
    {
     "data": {
      "text/plain": [
       "dict_keys(['a', 'l', 'a_f', 'l_f', 'beta', 'f_sed', 'log_K_zz', 'sigma_g', 'R_p', 'parallax', 'epsilon_limb', 'log_g', 'vsini', 'N_knots', 'K_zz', 'g', 'log_a', 'log_l', 'rv', 'log_12CO', '12CO', 'log_13CO', '13CO', 'log_C18O', 'C18O', 'log_C17O', 'C17O', 'log_H2O', 'H2O', 'log_H2O_181', 'H2O_181', 'log_CO2', 'CO2', 'T_0', 'log_P_RCE', 'P_RCE', 'dlog_P_1', 'dlog_P_3', 'dlnT_dlnP_RCE', 'dlnT_dlnP_0', 'dlnT_dlnP_1', 'dlnT_dlnP_2', 'dlnT_dlnP_3', 'dlnT_dlnP_4', 'dlnT_dlnP_5', 'res', 'dlnT_dlnP_knots', 'beta_NIRSpec', 'a_NIRSpec', 'l_NIRSpec', 'a_f_NIRSpec', 'l_f_NIRSpec', 'C/O', 'Fe/H'])"
      ]
     },
     "execution_count": 14,
     "metadata": {},
     "output_type": "execute_result"
    }
   ],
   "source": [
    "bestfit_params['params'].keys()\n",
    "bestfit_params['params']['res'] = 100e3"
   ]
  },
  {
   "cell_type": "code",
   "execution_count": 8,
   "metadata": {},
   "outputs": [
    {
     "data": {
      "text/plain": [
       "[<petitRADTRANS.radtrans.Radtrans at 0x7efbeb220cd0>,\n",
       " <petitRADTRANS.radtrans.Radtrans at 0x7efbeb222710>,\n",
       " <petitRADTRANS.radtrans.Radtrans at 0x7efbeb222010>,\n",
       " <petitRADTRANS.radtrans.Radtrans at 0x7efbeb222e10>]"
      ]
     },
     "execution_count": 8,
     "metadata": {},
     "output_type": "execute_result"
    }
   ],
   "source": [
    "order = 3\n",
    "atm = pRT.atm[3]\n",
    "m_sp"
   ]
  }
 ],
 "metadata": {
  "kernelspec": {
   "display_name": "retrieval",
   "language": "python",
   "name": "python3"
  },
  "language_info": {
   "codemirror_mode": {
    "name": "ipython",
    "version": 3
   },
   "file_extension": ".py",
   "mimetype": "text/x-python",
   "name": "python",
   "nbconvert_exporter": "python",
   "pygments_lexer": "ipython3",
   "version": "3.11.4"
  }
 },
 "nbformat": 4,
 "nbformat_minor": 2
}
